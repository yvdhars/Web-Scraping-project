{
 "cells": [
  {
   "cell_type": "code",
   "execution_count": 1,
   "metadata": {},
   "outputs": [],
   "source": [
    "# importing required libraries to extract data from magic bricks website\n",
    "import requests\n",
    "import bs4\n",
    "from bs4 import BeautifulSoup\n",
    "import re\n",
    "import pandas as pd\n",
    "import numpy as np"
   ]
  },
  {
   "cell_type": "markdown",
   "metadata": {},
   "source": [
    "The data extracting is limited amount there maybe huge ammount of data in those websites we are considering only limitted total around 450 samples of data in Hyderabad"
   ]
  },
  {
   "cell_type": "code",
   "execution_count": 2,
   "metadata": {},
   "outputs": [],
   "source": [
    "# links to extract data for tellapur\n",
    "links=['https://www.magicbricks.com/property-for-sale-in-tellapur-hyderabad-pppfs',\n",
    "       'https://www.magicbricks.com/property-for-sale-in-tellapur-hyderabad-pppfs/page-2',\n",
    "       'https://www.magicbricks.com/property-for-sale-in-tellapur-hyderabad-pppfs/page-3',\n",
    "       'https://www.magicbricks.com/property-for-sale-in-tellapur-hyderabad-pppfs/page-4']"
   ]
  },
  {
   "cell_type": "code",
   "execution_count": 3,
   "metadata": {},
   "outputs": [],
   "source": [
    "# storing extracted data into the the variables in the form of list\n",
    "property_price=list([])\n",
    "sq_feet_price=list([])\n",
    "proname=list([])\n",
    "property_size=list([])\n",
    "status=list([])\n",
    "trasaction=list([])\n",
    "location=list([])\n",
    "area=list([])\n",
    "property_type=list([])"
   ]
  },
  {
   "cell_type": "code",
   "execution_count": 4,
   "metadata": {},
   "outputs": [],
   "source": [
    "#code for extracting data for Tellapur region\n",
    "j=0# to find if there is error in any loop\n",
    "q=[]# used as temporary variable to store data\n",
    "for i in links:\n",
    "    j=j+1\n",
    "    #print(j)\n",
    "    web=requests.get(i)#requesting websites\n",
    "    web_bs=BeautifulSoup(web.text)\n",
    "    #code for property price\n",
    "    ppr=web_bs.find_all('div',class_='m-srp-card__info flex__item')\n",
    "    for i in range(len(ppr)):\n",
    "        p=re.findall(r'\\d+.\\d+ \\w+|\\d+ \\w+|Call for Price',ppr[i].text)\n",
    "        property_price.append(p[0])\n",
    "    #code for squre feet\n",
    "    w=[]\n",
    "    tll=web_bs.find_all('div', class_=\"m-srp-card__info flex__item\")\n",
    "    for i in range(len(tll)):\n",
    "        w.append(re.findall('\\d{4} |See other Charges',tll[i].text))\n",
    "    for i in range(len(w)):\n",
    "        if(w[i]==[]):\n",
    "            sq_feet_price.append('not given')\n",
    "        else:\n",
    "            sq_feet_price.append(w[i][0])\n",
    "    #code for propertyname\n",
    "    w=web_bs.find_all('span',class_='m-srp-card__title__bhk')\n",
    "    for i in w:\n",
    "        e=re.findall('\\d\\sBHK',i.text)\n",
    "        g=re.findall('Apartment|Plot/Land|Villa|Flat|House|Builder Floor',i.text)\n",
    "        property_type.append(''.join(g))\n",
    "        proname.append(''.join(e))\n",
    "    #code for area size ,status and transaction\n",
    "    w=web_bs.find_all('div',class_=\"m-srp-card__summary__info\")\n",
    "    s=[];s1=[]\n",
    "    for i in w:\n",
    "        p =re.findall(r'\\d+\\ssqft|\\d+\\ssqyrd',i.text)\n",
    "        r =re.findall(r\"Ready to Move|Possession by\\s[A-z]+\\s\\'\\d{2}\",i.text)\n",
    "        w1=re.findall(r'N\\w+\\sP\\w+|Resale',i.text)\n",
    "        s.append(''.join(r))\n",
    "        q.append(''.join(p))\n",
    "        trasaction.append(''.join(w1))\n",
    "    q=list(filter(lambda a:a.strip(),q))\n",
    "    s=list(filter(lambda a:a.strip(),s))\n",
    "    for t in s:\n",
    "        status.append(t)\n",
    "    trasaction=list(filter(lambda a:a.strip(),trasaction))\n",
    "#code for location\n",
    "for i in range(len(q)):\n",
    "    location.append('Tellapur')\n",
    "    area.append('outside city')\n",
    "    while(len(status)<=len(property_size)):\n",
    "        status.append('Ready to move')\n",
    "    property_size.append(q[i])"
   ]
  },
  {
   "cell_type": "code",
   "execution_count": 6,
   "metadata": {},
   "outputs": [
    {
     "name": "stdout",
     "output_type": "stream",
     "text": [
      "120 120 120 120 120 120 120 120 120\n"
     ]
    }
   ],
   "source": [
    "print(len(property_price),len(sq_feet_price),len(proname),len(property_size),len(status),len(trasaction),len(location),len(area),len(property_type))"
   ]
  },
  {
   "cell_type": "code",
   "execution_count": 7,
   "metadata": {},
   "outputs": [],
   "source": [
    "# links for extracting data for Bachupally \n",
    "links1=['https://www.magicbricks.com/property-for-sale-in-bachupally-hyderabad-pppfs',\n",
    "        'https://www.magicbricks.com/property-for-sale-in-bachupally-hyderabad-pppfs/page-2',\n",
    "        'https://www.magicbricks.com/property-for-sale-in-bachupally-hyderabad-pppfs/page-3',\n",
    "        'https://www.magicbricks.com/property-for-sale-in-bachupally-hyderabad-pppfs/page-4']"
   ]
  },
  {
   "cell_type": "code",
   "execution_count": 26,
   "metadata": {},
   "outputs": [],
   "source": [
    "#code for extracting data for Bachupally area\n",
    "q=[]# temporary variable to store data\n",
    "j=0 # variable to find if any error occuredin loops\n",
    "for i in links1:\n",
    "    j=j+1\n",
    "    #print(j)\n",
    "    web=requests.get(i)\n",
    "    web_bs=BeautifulSoup(web.text)\n",
    "    #code for property price\n",
    "    ppr=web_bs.find_all('div',class_='m-srp-card__info flex__item')\n",
    "    for i in range(len(ppr)):\n",
    "        p=re.findall(r'\\d+.\\d+ \\w+|\\d+ \\w+|Call for Price',ppr[i].text)\n",
    "        property_price.append(p[0])\n",
    "    #code for squre feet\n",
    "    w=[]\n",
    "    tll=web_bs.find_all('div', class_=\"m-srp-card__info flex__item\")\n",
    "    for i in range(len(tll)):\n",
    "        w.append(re.findall('\\d{4} |See other Charges',tll[i].text))\n",
    "    for i in range(len(w)):\n",
    "        if(w[i]==[]):\n",
    "            sq_feet_price.append('not given')\n",
    "        else:\n",
    "            sq_feet_price.append(w[i][0])\n",
    "    #code for propertyname\n",
    "    w=web_bs.find_all('span',class_='m-srp-card__title__bhk')\n",
    "    for i in w:\n",
    "        e=re.findall('\\d\\sBHK',i.text)\n",
    "        g=re.findall('Apartment|Plot/Land|Villa|Flat|House|Builder Floor',i.text)\n",
    "        property_type.append(''.join(g))\n",
    "        proname.append(''.join(e))\n",
    "    #code for area size ,status and transaction\n",
    "    w=web_bs.find_all('div',class_=\"m-srp-card__summary__info\")\n",
    "    s=[];s1=[]\n",
    "    for i in w:\n",
    "        p =re.findall(r'\\d+\\ssqft|\\d+\\ssqyrd',i.text)\n",
    "        r =re.findall(r\"Ready to Move|Possession by\\s[A-z]+\\s\\'\\d{2}\",i.text)\n",
    "        w1=re.findall(r'N\\w+\\sP\\w+|Resale',i.text)\n",
    "        s.append(''.join(r))\n",
    "        q.append(''.join(p))\n",
    "        trasaction.append(''.join(w1))\n",
    "    q=list(filter(lambda a:a.strip(),q))\n",
    "    s=list(filter(lambda a:a.strip(),s))\n",
    "    for t in s:\n",
    "        status.append(t)\n",
    "    trasaction=list(filter(lambda a:a.strip(),trasaction))\n",
    "#code for location\n",
    "for i in range(len(q)):\n",
    "    location.append('Bachupally')\n",
    "    area.append('outside city')\n",
    "    property_size.append(q[i])\n",
    "    while(len(status)<len(property_size)):\n",
    "        status.append('Ready to move')"
   ]
  },
  {
   "cell_type": "code",
   "execution_count": 9,
   "metadata": {},
   "outputs": [
    {
     "name": "stdout",
     "output_type": "stream",
     "text": [
      "240 240 240 240 240 240 240 240 240\n"
     ]
    }
   ],
   "source": [
    "print(len(property_price),len(sq_feet_price),len(proname),len(property_size),len(status),len(trasaction),len(location),len(area),len(property_type))"
   ]
  },
  {
   "cell_type": "code",
   "execution_count": 10,
   "metadata": {},
   "outputs": [],
   "source": [
    "# links for extracting data for kukatpally area\n",
    "links2=['https://www.magicbricks.com/property-for-sale-in-kukatpally-hyderabad-pppfs',\n",
    "        'https://www.magicbricks.com/property-for-sale-in-kukatpally-hyderabad-pppfs/page-2',\n",
    "        'https://www.magicbricks.com/property-for-sale-in-kukatpally-hyderabad-pppfs/page-3',\n",
    "        'https://www.magicbricks.com/property-for-sale-in-kukatpally-hyderabad-pppfs/page-4']"
   ]
  },
  {
   "cell_type": "code",
   "execution_count": 11,
   "metadata": {},
   "outputs": [],
   "source": [
    "#code for extracting data for Kukatpally area\n",
    "q=[]# temporary variable to store the data \n",
    "j=0 # variable to find any error occured in the loops\n",
    "for i in links2:\n",
    "    j=j+1\n",
    "    #print(j)\n",
    "    web=requests.get(i)\n",
    "    web_bs=BeautifulSoup(web.text)\n",
    "    #code for property price\n",
    "    ppr=web_bs.find_all('div',class_='m-srp-card__info flex__item')\n",
    "    for i in range(len(ppr)):\n",
    "        p=re.findall(r'\\d+.\\d+ \\w+|\\d+ \\w+|Call for Price',ppr[i].text)\n",
    "        property_price.append(p[0])\n",
    "    #code for squre feet\n",
    "    w=[]\n",
    "    tll=web_bs.find_all('div', class_=\"m-srp-card__info flex__item\")\n",
    "    for i in range(len(tll)):\n",
    "        w.append(re.findall('\\d{4} |See other Charges',tll[i].text))\n",
    "    for i in range(len(w)):\n",
    "        if(w[i]==[]):\n",
    "            sq_feet_price.append('not given')\n",
    "        else:\n",
    "            sq_feet_price.append(w[i][0])\n",
    "    #code for propertyname\n",
    "    w=web_bs.find_all('span',class_='m-srp-card__title__bhk')\n",
    "    for i in w:\n",
    "        e=re.findall('\\d\\sBHK',i.text)\n",
    "        g=re.findall('Apartment|Plot/Land|Villa|Flat|House|Builder Floor',i.text)\n",
    "        property_type.append(''.join(g))\n",
    "        proname.append(''.join(e))\n",
    "    #code for area size ,status and transaction\n",
    "    w=web_bs.find_all('div',class_=\"m-srp-card__summary__info\")\n",
    "    s=[];s1=[]\n",
    "    for i in w:\n",
    "        p =re.findall(r'\\d+\\ssqft|\\d+\\ssqyrd',i.text)\n",
    "        r =re.findall(r\"Ready to Move|Possession by\\s[A-z]+\\s\\'\\d{2}\",i.text)\n",
    "        w1=re.findall(r'N\\w+\\sP\\w+|Resale',i.text)\n",
    "        s.append(''.join(r))\n",
    "        q.append(''.join(p))\n",
    "        trasaction.append(''.join(w1))\n",
    "    q=list(filter(lambda a:a.strip(),q))\n",
    "    s=list(filter(lambda a:a.strip(),s))\n",
    "    for t in s:\n",
    "        status.append(t)\n",
    "    trasaction=list(filter(lambda a:a.strip(),trasaction))\n",
    "#code for location\n",
    "for i in range(len(q)):\n",
    "    location.append('Kukatpally')\n",
    "    area.append('inside city')\n",
    "    property_size.append(q[i])\n",
    "    while(len(status)<len(property_size)):\n",
    "        status.append('Ready to move')"
   ]
  },
  {
   "cell_type": "code",
   "execution_count": 12,
   "metadata": {},
   "outputs": [
    {
     "name": "stdout",
     "output_type": "stream",
     "text": [
      "360 360 360 360 360 360 360 360 360\n"
     ]
    }
   ],
   "source": [
    "print(len(property_price),len(sq_feet_price),len(proname),len(property_size),len(status),len(trasaction),len(location),len(area),len(property_type))"
   ]
  },
  {
   "cell_type": "code",
   "execution_count": 13,
   "metadata": {},
   "outputs": [],
   "source": [
    "#links for \n",
    "links3=['https://www.magicbricks.com/flats-in-pragathi-nagar-hyderabad-for-sale-pppfs',\n",
    "        'https://www.magicbricks.com/flats-in-pragathi-nagar-hyderabad-for-sale-pppfs/page-2',\n",
    "        'https://www.magicbricks.com/flats-in-pragathi-nagar-hyderabad-for-sale-pppfs/page-3',\n",
    "        'https://www.magicbricks.com/flats-in-pragathi-nagar-hyderabad-for-sale-pppfs/page-4']"
   ]
  },
  {
   "cell_type": "code",
   "execution_count": 14,
   "metadata": {},
   "outputs": [],
   "source": [
    "#code for extracting data for PragathiNagar area\n",
    "q=[]# temporary variable to store data\n",
    "j=0 # varible to find if any error occurred in the loops \n",
    "for i in links3:\n",
    "    j=j+1\n",
    "    #print(j)\n",
    "    web=requests.get(i)\n",
    "    web_bs=BeautifulSoup(web.text)\n",
    "    #code for property price\n",
    "    ppr=web_bs.find_all('div',class_='m-srp-card__info flex__item')\n",
    "    for i in range(len(ppr)):\n",
    "        p=re.findall(r'\\d+.\\d+ \\w+|\\d+ \\w+|Call for Price',ppr[i].text)\n",
    "        property_price.append(p[0])\n",
    "    #code for squre feet\n",
    "    w=[]\n",
    "    tll=web_bs.find_all('div', class_=\"m-srp-card__info flex__item\")\n",
    "    for i in range(len(tll)):\n",
    "        w.append(re.findall('\\d{4} |See other Charges',tll[i].text))\n",
    "    for i in range(len(w)):\n",
    "        if(w[i]==[]):\n",
    "            sq_feet_price.append('not given')\n",
    "        else:\n",
    "            sq_feet_price.append(w[i][0])\n",
    "    #code for propertyname\n",
    "    w=web_bs.find_all('span',class_='m-srp-card__title__bhk')\n",
    "    for i in w:\n",
    "        e=re.findall('\\d\\sBHK',i.text)\n",
    "        g=re.findall('Apartment|Plot/Land|Villa|Flat|House|Builder Floor',i.text)\n",
    "        property_type.append(''.join(g))\n",
    "        proname.append(''.join(e))\n",
    "    #code for area size ,status and transaction\n",
    "    w=web_bs.find_all('div',class_=\"m-srp-card__summary__info\")\n",
    "    s=[]\n",
    "    for i in w:\n",
    "        p =re.findall(r'\\d+\\ssqft|\\d+\\ssqyrd',i.text)\n",
    "        r =re.findall(r\"Ready to Move|Possession by\\s[A-z]+\\s\\'\\d{2}\",i.text)\n",
    "        w1=re.findall(r'N\\w+\\sP\\w+|Resale',i.text)\n",
    "        s.append(''.join(r))\n",
    "        q.append(''.join(p))\n",
    "        trasaction.append(''.join(w1))\n",
    "    q=list(filter(lambda a:a.strip(),q))\n",
    "    s=list(filter(lambda a:a.strip(),s))\n",
    "    for t in s:\n",
    "        status.append(t)\n",
    "    trasaction=list(filter(lambda a:a.strip(),trasaction))\n",
    "#code for location\n",
    "for i in range(len(q)):\n",
    "    location.append('PragathiNagar')\n",
    "    area.append('inside city')\n",
    "    property_size.append(q[i])\n",
    "    while(len(status)<len(property_size)):\n",
    "        status.append('Ready to move')"
   ]
  },
  {
   "cell_type": "code",
   "execution_count": 15,
   "metadata": {},
   "outputs": [
    {
     "name": "stdout",
     "output_type": "stream",
     "text": [
      "480 480 480 480 480 480 480 480 480\n"
     ]
    }
   ],
   "source": [
    "print(len(property_price),len(sq_feet_price),len(proname),len(property_size),len(status),len(trasaction),len(location),len(area),len(property_type))"
   ]
  },
  {
   "cell_type": "code",
   "execution_count": 22,
   "metadata": {},
   "outputs": [],
   "source": [
    "SI_NO=[x for x in range(1,481)]# index to a datafrme"
   ]
  },
  {
   "cell_type": "code",
   "execution_count": 23,
   "metadata": {},
   "outputs": [],
   "source": [
    "df=pd.DataFrame([])"
   ]
  },
  {
   "cell_type": "code",
   "execution_count": 24,
   "metadata": {},
   "outputs": [],
   "source": [
    "df['SI.NO']=SI_NO\n",
    "df['Property_name']=proname\n",
    "df['Property_type']=property_type\n",
    "df['Property_size']=property_size\n",
    "df['Sq_feet_price']=sq_feet_price\n",
    "df['Property_price']=property_price\n",
    "df['Transaction']=trasaction\n",
    "df['Status']=status\n",
    "df['Area']=location\n",
    "df['Location']=area"
   ]
  },
  {
   "cell_type": "code",
   "execution_count": 25,
   "metadata": {},
   "outputs": [
    {
     "data": {
      "text/html": [
       "<div>\n",
       "<style scoped>\n",
       "    .dataframe tbody tr th:only-of-type {\n",
       "        vertical-align: middle;\n",
       "    }\n",
       "\n",
       "    .dataframe tbody tr th {\n",
       "        vertical-align: top;\n",
       "    }\n",
       "\n",
       "    .dataframe thead th {\n",
       "        text-align: right;\n",
       "    }\n",
       "</style>\n",
       "<table border=\"1\" class=\"dataframe\">\n",
       "  <thead>\n",
       "    <tr style=\"text-align: right;\">\n",
       "      <th></th>\n",
       "      <th>SI.NO</th>\n",
       "      <th>Property_name</th>\n",
       "      <th>Property_type</th>\n",
       "      <th>Property_size</th>\n",
       "      <th>Sq_feet_price</th>\n",
       "      <th>Property_price</th>\n",
       "      <th>Transaction</th>\n",
       "      <th>Status</th>\n",
       "      <th>Area</th>\n",
       "      <th>Location</th>\n",
       "    </tr>\n",
       "  </thead>\n",
       "  <tbody>\n",
       "    <tr>\n",
       "      <th>0</th>\n",
       "      <td>1</td>\n",
       "      <td>4 BHK</td>\n",
       "      <td>Villa</td>\n",
       "      <td>4020 sqft</td>\n",
       "      <td>8881</td>\n",
       "      <td>3.57 Cr</td>\n",
       "      <td>New Property</td>\n",
       "      <td>Possession by Mar '20</td>\n",
       "      <td>Tellapur</td>\n",
       "      <td>outside city</td>\n",
       "    </tr>\n",
       "    <tr>\n",
       "      <th>1</th>\n",
       "      <td>2</td>\n",
       "      <td>4 BHK</td>\n",
       "      <td>Villa</td>\n",
       "      <td>4660 sqft</td>\n",
       "      <td>8605</td>\n",
       "      <td>4.01 Cr</td>\n",
       "      <td>New Property</td>\n",
       "      <td>Possession by Mar '20</td>\n",
       "      <td>Tellapur</td>\n",
       "      <td>outside city</td>\n",
       "    </tr>\n",
       "    <tr>\n",
       "      <th>2</th>\n",
       "      <td>3</td>\n",
       "      <td>4 BHK</td>\n",
       "      <td>Villa</td>\n",
       "      <td>3700 sqft</td>\n",
       "      <td>6666</td>\n",
       "      <td>2.46 Cr</td>\n",
       "      <td>New Property</td>\n",
       "      <td>Possession by Dec '22</td>\n",
       "      <td>Tellapur</td>\n",
       "      <td>outside city</td>\n",
       "    </tr>\n",
       "    <tr>\n",
       "      <th>3</th>\n",
       "      <td>4</td>\n",
       "      <td>3 BHK</td>\n",
       "      <td>Villa</td>\n",
       "      <td>3333 sqft</td>\n",
       "      <td>6300</td>\n",
       "      <td>2.09 Cr</td>\n",
       "      <td>New Property</td>\n",
       "      <td>Ready to Move</td>\n",
       "      <td>Tellapur</td>\n",
       "      <td>outside city</td>\n",
       "    </tr>\n",
       "    <tr>\n",
       "      <th>4</th>\n",
       "      <td>5</td>\n",
       "      <td>4 BHK</td>\n",
       "      <td>Villa</td>\n",
       "      <td>3410 sqft</td>\n",
       "      <td>7771</td>\n",
       "      <td>2.65 Cr</td>\n",
       "      <td>New Property</td>\n",
       "      <td>Possession by Dec '20</td>\n",
       "      <td>Tellapur</td>\n",
       "      <td>outside city</td>\n",
       "    </tr>\n",
       "  </tbody>\n",
       "</table>\n",
       "</div>"
      ],
      "text/plain": [
       "   SI.NO Property_name Property_type Property_size Sq_feet_price  \\\n",
       "0      1         4 BHK         Villa     4020 sqft         8881    \n",
       "1      2         4 BHK         Villa     4660 sqft         8605    \n",
       "2      3         4 BHK         Villa     3700 sqft         6666    \n",
       "3      4         3 BHK         Villa     3333 sqft         6300    \n",
       "4      5         4 BHK         Villa     3410 sqft         7771    \n",
       "\n",
       "  Property_price   Transaction                 Status      Area      Location  \n",
       "0        3.57 Cr  New Property  Possession by Mar '20  Tellapur  outside city  \n",
       "1        4.01 Cr  New Property  Possession by Mar '20  Tellapur  outside city  \n",
       "2        2.46 Cr  New Property  Possession by Dec '22  Tellapur  outside city  \n",
       "3        2.09 Cr  New Property          Ready to Move  Tellapur  outside city  \n",
       "4        2.65 Cr  New Property  Possession by Dec '20  Tellapur  outside city  "
      ]
     },
     "execution_count": 25,
     "metadata": {},
     "output_type": "execute_result"
    }
   ],
   "source": [
    "df.head()"
   ]
  },
  {
   "cell_type": "code",
   "execution_count": 27,
   "metadata": {},
   "outputs": [
    {
     "name": "stdout",
     "output_type": "stream",
     "text": [
      "<class 'pandas.core.frame.DataFrame'>\n",
      "RangeIndex: 480 entries, 0 to 479\n",
      "Data columns (total 10 columns):\n",
      "SI.NO             480 non-null int64\n",
      "Property_name     480 non-null object\n",
      "Property_type     480 non-null object\n",
      "Property_size     480 non-null object\n",
      "Sq_feet_price     480 non-null object\n",
      "Property_price    480 non-null object\n",
      "Transaction       480 non-null object\n",
      "Status            480 non-null object\n",
      "Area              480 non-null object\n",
      "Location          480 non-null object\n",
      "dtypes: int64(1), object(9)\n",
      "memory usage: 37.6+ KB\n"
     ]
    }
   ],
   "source": [
    "df.info()"
   ]
  },
  {
   "cell_type": "code",
   "execution_count": null,
   "metadata": {},
   "outputs": [],
   "source": [
    "df.to_csv(r'C:\\Users\\yvdha\\proj\\data.csv')"
   ]
  }
 ],
 "metadata": {
  "kernelspec": {
   "display_name": "Python 3",
   "language": "python",
   "name": "python3"
  },
  "language_info": {
   "codemirror_mode": {
    "name": "ipython",
    "version": 3
   },
   "file_extension": ".py",
   "mimetype": "text/x-python",
   "name": "python",
   "nbconvert_exporter": "python",
   "pygments_lexer": "ipython3",
   "version": "3.7.3"
  }
 },
 "nbformat": 4,
 "nbformat_minor": 2
}
